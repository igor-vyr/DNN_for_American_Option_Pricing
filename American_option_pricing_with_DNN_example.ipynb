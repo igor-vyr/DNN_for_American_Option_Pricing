{
 "cells": [
  {
   "cell_type": "markdown",
   "metadata": {},
   "source": [
    "# Example of american option pricing with DNN"
   ]
  },
  {
   "cell_type": "code",
   "execution_count": 1,
   "metadata": {},
   "outputs": [
    {
     "name": "stderr",
     "output_type": "stream",
     "text": [
      "Using TensorFlow backend.\n"
     ]
    }
   ],
   "source": [
    "import numpy as np\n",
    "import pandas as pd\n",
    "import keras\n",
    "import tensorflow as tf\n",
    "import keras.backend as K\n",
    "\n",
    "from Loss import profit_loss\n",
    "from Networks import AmericanOptionNetwork_1\n",
    "from DataGeneration import stock_prices_generator\n",
    "from Utils import EuroOptionPrice_MonteCarlo"
   ]
  },
  {
   "cell_type": "markdown",
   "metadata": {},
   "source": [
    "Choosing model parameters:"
   ]
  },
  {
   "cell_type": "code",
   "execution_count": 2,
   "metadata": {},
   "outputs": [],
   "source": [
    "interest_rate=0.05\n",
    "volatility=0.3\n",
    "T=1\n",
    "S0=5\n",
    "strike=5\n",
    "num_samples=50 # batchsize\n",
    "num_steps=100\n",
    "option_type='call'"
   ]
  },
  {
   "cell_type": "markdown",
   "metadata": {},
   "source": [
    "Initializing stock price generators:"
   ]
  },
  {
   "cell_type": "code",
   "execution_count": 3,
   "metadata": {},
   "outputs": [],
   "source": [
    "# For neural network batch generation:\n",
    "stockpricegenerator_NN=stock_prices_generator(mu=interest_rate, sigma=volatility, S0=S0, T=T, T_past=0, \n",
    "                                                modelinput=True, num_samples=num_samples, \n",
    "                                                  num_steps=num_steps)\n",
    "# For comparison reasons:\n",
    "stockpricegenerator_simple=stock_prices_generator(mu=interest_rate, sigma=volatility, S0=S0, T=T, T_past=0,\n",
    "                                                    modelinput=False, num_samples=num_samples, \n",
    "                                                      num_steps=num_steps)"
   ]
  },
  {
   "cell_type": "markdown",
   "metadata": {},
   "source": [
    "Constructing the network:"
   ]
  },
  {
   "cell_type": "code",
   "execution_count": 4,
   "metadata": {},
   "outputs": [],
   "source": [
    "network=AmericanOptionNetwork_1(timesteps=num_steps,\n",
    "                            num_initial_features=20,\n",
    "                            num_hidden_features=(10,5,2),\n",
    "                            hidden_activation='elu',\n",
    "                            concat_timepoints=(True, False, False))"
   ]
  },
  {
   "cell_type": "markdown",
   "metadata": {},
   "source": [
    "Creating loss function:"
   ]
  },
  {
   "cell_type": "code",
   "execution_count": 5,
   "metadata": {},
   "outputs": [],
   "source": [
    "profitloss=profit_loss(strike=strike, interest_rate=interest_rate, T=T, option_type=option_type)"
   ]
  },
  {
   "cell_type": "markdown",
   "metadata": {},
   "source": [
    "Compiling the network:"
   ]
  },
  {
   "cell_type": "code",
   "execution_count": 6,
   "metadata": {},
   "outputs": [],
   "source": [
    "network.compile(loss=profitloss, optimizer='adam')"
   ]
  },
  {
   "cell_type": "markdown",
   "metadata": {},
   "source": [
    "Fitting the network:"
   ]
  },
  {
   "cell_type": "code",
   "execution_count": 7,
   "metadata": {},
   "outputs": [
    {
     "name": "stdout",
     "output_type": "stream",
     "text": [
      "Epoch 1/8\n",
      "1000/1000 [==============================] - 14s 14ms/step - loss: -0.5571\n",
      "Epoch 2/8\n",
      "1000/1000 [==============================] - 13s 13ms/step - loss: -0.6710\n",
      "Epoch 3/8\n",
      "1000/1000 [==============================] - 13s 13ms/step - loss: -0.6863\n",
      "Epoch 4/8\n",
      "1000/1000 [==============================] - 13s 13ms/step - loss: -0.6827\n",
      "Epoch 5/8\n",
      "1000/1000 [==============================] - 14s 14ms/step - loss: -0.6870\n",
      "Epoch 6/8\n",
      "1000/1000 [==============================] - 13s 13ms/step - loss: -0.6929\n",
      "Epoch 7/8\n",
      "1000/1000 [==============================] - 14s 14ms/step - loss: -0.6966\n",
      "Epoch 8/8\n",
      "1000/1000 [==============================] - 13s 13ms/step - loss: -0.6955\n"
     ]
    },
    {
     "data": {
      "text/plain": [
       "<keras.callbacks.History at 0x7f09e042cb00>"
      ]
     },
     "execution_count": 7,
     "metadata": {},
     "output_type": "execute_result"
    }
   ],
   "source": [
    "network.fit_generator(generator=stockpricegenerator_NN, epochs=8, steps_per_epoch=1000)"
   ]
  },
  {
   "cell_type": "markdown",
   "metadata": {},
   "source": [
    "Plotting the network:"
   ]
  },
  {
   "cell_type": "code",
   "execution_count": 8,
   "metadata": {},
   "outputs": [
    {
     "data": {
      "image/svg+xml": [
       "<svg height=\"556pt\" viewBox=\"0.00 0.00 382.00 556.00\" width=\"382pt\" xmlns=\"http://www.w3.org/2000/svg\" xmlns:xlink=\"http://www.w3.org/1999/xlink\">\n",
       "<g class=\"graph\" id=\"graph0\" transform=\"scale(1 1) rotate(0) translate(4 552)\">\n",
       "<title>G</title>\n",
       "<polygon fill=\"#ffffff\" points=\"-4,4 -4,-552 378,-552 378,4 -4,4\" stroke=\"transparent\"/>\n",
       "<!-- 139680404003752 -->\n",
       "<g class=\"node\" id=\"node1\">\n",
       "<title>139680404003752</title>\n",
       "<polygon fill=\"none\" points=\"0,-511.5 0,-547.5 154,-547.5 154,-511.5 0,-511.5\" stroke=\"#000000\"/>\n",
       "<text fill=\"#000000\" font-family=\"Times,serif\" font-size=\"14.00\" text-anchor=\"middle\" x=\"77\" y=\"-525.8\">Stock_prices: InputLayer</text>\n",
       "</g>\n",
       "<!-- 139680404003696 -->\n",
       "<g class=\"node\" id=\"node2\">\n",
       "<title>139680404003696</title>\n",
       "<polygon fill=\"none\" points=\"51,-438.5 51,-474.5 209,-474.5 209,-438.5 51,-438.5\" stroke=\"#000000\"/>\n",
       "<text fill=\"#000000\" font-family=\"Times,serif\" font-size=\"14.00\" text-anchor=\"middle\" x=\"130\" y=\"-452.8\">FC-Conv_initial: Conv1D</text>\n",
       "</g>\n",
       "<!-- 139680404003752&#45;&gt;139680404003696 -->\n",
       "<g class=\"edge\" id=\"edge1\">\n",
       "<title>139680404003752-&gt;139680404003696</title>\n",
       "<path d=\"M90.1011,-511.4551C96.344,-502.8564 103.9332,-492.4034 110.8099,-482.9316\" fill=\"none\" stroke=\"#000000\"/>\n",
       "<polygon fill=\"#000000\" points=\"113.823,-484.7388 116.8659,-474.5904 108.1585,-480.6262 113.823,-484.7388\" stroke=\"#000000\"/>\n",
       "</g>\n",
       "<!-- 139680394494864 -->\n",
       "<g class=\"node\" id=\"node9\">\n",
       "<title>139680394494864</title>\n",
       "<polygon fill=\"none\" points=\"57.5,-.5 57.5,-36.5 266.5,-36.5 266.5,-.5 57.5,-.5\" stroke=\"#000000\"/>\n",
       "<text fill=\"#000000\" font-family=\"Times,serif\" font-size=\"14.00\" text-anchor=\"middle\" x=\"162\" y=\"-14.8\">Concatenated_Output: Concatenate</text>\n",
       "</g>\n",
       "<!-- 139680404003752&#45;&gt;139680394494864 -->\n",
       "<g class=\"edge\" id=\"edge9\">\n",
       "<title>139680404003752-&gt;139680394494864</title>\n",
       "<path d=\"M62.9395,-511.2467C55.7189,-501.0698 47.3403,-487.8805 42,-475 26.0572,-436.5472 22,-425.1268 22,-383.5 22,-383.5 22,-383.5 22,-164.5 22,-122.9658 15.0075,-105.3956 41,-73 52.0886,-59.1798 67.435,-48.7446 83.4802,-40.9078\" fill=\"none\" stroke=\"#000000\"/>\n",
       "<polygon fill=\"#000000\" points=\"85.3267,-43.9132 92.9813,-36.588 82.4294,-37.5409 85.3267,-43.9132\" stroke=\"#000000\"/>\n",
       "</g>\n",
       "<!-- 139681494476672 -->\n",
       "<g class=\"node\" id=\"node4\">\n",
       "<title>139681494476672</title>\n",
       "<polygon fill=\"none\" points=\"76,-365.5 76,-401.5 248,-401.5 248,-365.5 76,-365.5\" stroke=\"#000000\"/>\n",
       "<text fill=\"#000000\" font-family=\"Times,serif\" font-size=\"14.00\" text-anchor=\"middle\" x=\"162\" y=\"-379.8\">ConcatTime_0: Concatenate</text>\n",
       "</g>\n",
       "<!-- 139680404003696&#45;&gt;139681494476672 -->\n",
       "<g class=\"edge\" id=\"edge2\">\n",
       "<title>139680404003696-&gt;139681494476672</title>\n",
       "<path d=\"M137.9101,-438.4551C141.564,-430.1196 145.9818,-420.0416 150.031,-410.8042\" fill=\"none\" stroke=\"#000000\"/>\n",
       "<polygon fill=\"#000000\" points=\"153.2607,-412.1542 154.07,-401.5904 146.8496,-409.3439 153.2607,-412.1542\" stroke=\"#000000\"/>\n",
       "</g>\n",
       "<!-- 139680404004480 -->\n",
       "<g class=\"node\" id=\"node3\">\n",
       "<title>139680404004480</title>\n",
       "<polygon fill=\"none\" points=\"228,-438.5 228,-474.5 374,-474.5 374,-438.5 228,-438.5\" stroke=\"#000000\"/>\n",
       "<text fill=\"#000000\" font-family=\"Times,serif\" font-size=\"14.00\" text-anchor=\"middle\" x=\"301\" y=\"-452.8\">Timepoints: InputLayer</text>\n",
       "</g>\n",
       "<!-- 139680404004480&#45;&gt;139681494476672 -->\n",
       "<g class=\"edge\" id=\"edge3\">\n",
       "<title>139680404004480-&gt;139681494476672</title>\n",
       "<path d=\"M266.6404,-438.4551C248.1793,-428.7596 225.229,-416.7066 205.5299,-406.361\" fill=\"none\" stroke=\"#000000\"/>\n",
       "<polygon fill=\"#000000\" points=\"206.9267,-403.1413 196.446,-401.5904 203.672,-409.3387 206.9267,-403.1413\" stroke=\"#000000\"/>\n",
       "</g>\n",
       "<!-- 139680404004480&#45;&gt;139680394494864 -->\n",
       "<g class=\"edge\" id=\"edge10\">\n",
       "<title>139680404004480-&gt;139680394494864</title>\n",
       "<path d=\"M301.2072,-438.0623C301.5001,-410.367 302,-356.3795 302,-310.5 302,-310.5 302,-310.5 302,-164.5 302,-122.9658 308.9925,-105.3956 283,-73 271.9114,-59.1798 256.565,-48.7446 240.5198,-40.9078\" fill=\"none\" stroke=\"#000000\"/>\n",
       "<polygon fill=\"#000000\" points=\"241.5706,-37.5409 231.0187,-36.588 238.6733,-43.9132 241.5706,-37.5409\" stroke=\"#000000\"/>\n",
       "</g>\n",
       "<!-- 139680404128264 -->\n",
       "<g class=\"node\" id=\"node5\">\n",
       "<title>139680404128264</title>\n",
       "<polygon fill=\"none\" points=\"95,-292.5 95,-328.5 229,-328.5 229,-292.5 95,-292.5\" stroke=\"#000000\"/>\n",
       "<text fill=\"#000000\" font-family=\"Times,serif\" font-size=\"14.00\" text-anchor=\"middle\" x=\"162\" y=\"-306.8\">FC-Conv_0: Conv1D</text>\n",
       "</g>\n",
       "<!-- 139681494476672&#45;&gt;139680404128264 -->\n",
       "<g class=\"edge\" id=\"edge4\">\n",
       "<title>139681494476672-&gt;139680404128264</title>\n",
       "<path d=\"M162,-365.4551C162,-357.3828 162,-347.6764 162,-338.6817\" fill=\"none\" stroke=\"#000000\"/>\n",
       "<polygon fill=\"#000000\" points=\"165.5001,-338.5903 162,-328.5904 158.5001,-338.5904 165.5001,-338.5903\" stroke=\"#000000\"/>\n",
       "</g>\n",
       "<!-- 139681517930704 -->\n",
       "<g class=\"node\" id=\"node6\">\n",
       "<title>139681517930704</title>\n",
       "<polygon fill=\"none\" points=\"95,-219.5 95,-255.5 229,-255.5 229,-219.5 95,-219.5\" stroke=\"#000000\"/>\n",
       "<text fill=\"#000000\" font-family=\"Times,serif\" font-size=\"14.00\" text-anchor=\"middle\" x=\"162\" y=\"-233.8\">FC-Conv_1: Conv1D</text>\n",
       "</g>\n",
       "<!-- 139680404128264&#45;&gt;139681517930704 -->\n",
       "<g class=\"edge\" id=\"edge5\">\n",
       "<title>139680404128264-&gt;139681517930704</title>\n",
       "<path d=\"M162,-292.4551C162,-284.3828 162,-274.6764 162,-265.6817\" fill=\"none\" stroke=\"#000000\"/>\n",
       "<polygon fill=\"#000000\" points=\"165.5001,-265.5903 162,-255.5904 158.5001,-265.5904 165.5001,-265.5903\" stroke=\"#000000\"/>\n",
       "</g>\n",
       "<!-- 139680395045184 -->\n",
       "<g class=\"node\" id=\"node7\">\n",
       "<title>139680395045184</title>\n",
       "<polygon fill=\"none\" points=\"95,-146.5 95,-182.5 229,-182.5 229,-146.5 95,-146.5\" stroke=\"#000000\"/>\n",
       "<text fill=\"#000000\" font-family=\"Times,serif\" font-size=\"14.00\" text-anchor=\"middle\" x=\"162\" y=\"-160.8\">FC-Conv_2: Conv1D</text>\n",
       "</g>\n",
       "<!-- 139681517930704&#45;&gt;139680395045184 -->\n",
       "<g class=\"edge\" id=\"edge6\">\n",
       "<title>139681517930704-&gt;139680395045184</title>\n",
       "<path d=\"M162,-219.4551C162,-211.3828 162,-201.6764 162,-192.6817\" fill=\"none\" stroke=\"#000000\"/>\n",
       "<polygon fill=\"#000000\" points=\"165.5001,-192.5903 162,-182.5904 158.5001,-192.5904 165.5001,-192.5903\" stroke=\"#000000\"/>\n",
       "</g>\n",
       "<!-- 139680394783040 -->\n",
       "<g class=\"node\" id=\"node8\">\n",
       "<title>139680394783040</title>\n",
       "<polygon fill=\"none\" points=\"50,-73.5 50,-109.5 274,-109.5 274,-73.5 50,-73.5\" stroke=\"#000000\"/>\n",
       "<text fill=\"#000000\" font-family=\"Times,serif\" font-size=\"14.00\" text-anchor=\"middle\" x=\"162\" y=\"-87.8\">Exercise_Probabilty_Output: Conv1D</text>\n",
       "</g>\n",
       "<!-- 139680395045184&#45;&gt;139680394783040 -->\n",
       "<g class=\"edge\" id=\"edge7\">\n",
       "<title>139680395045184-&gt;139680394783040</title>\n",
       "<path d=\"M162,-146.4551C162,-138.3828 162,-128.6764 162,-119.6817\" fill=\"none\" stroke=\"#000000\"/>\n",
       "<polygon fill=\"#000000\" points=\"165.5001,-119.5903 162,-109.5904 158.5001,-119.5904 165.5001,-119.5903\" stroke=\"#000000\"/>\n",
       "</g>\n",
       "<!-- 139680394783040&#45;&gt;139680394494864 -->\n",
       "<g class=\"edge\" id=\"edge8\">\n",
       "<title>139680394783040-&gt;139680394494864</title>\n",
       "<path d=\"M162,-73.4551C162,-65.3828 162,-55.6764 162,-46.6817\" fill=\"none\" stroke=\"#000000\"/>\n",
       "<polygon fill=\"#000000\" points=\"165.5001,-46.5903 162,-36.5904 158.5001,-46.5904 165.5001,-46.5903\" stroke=\"#000000\"/>\n",
       "</g>\n",
       "</g>\n",
       "</svg>"
      ],
      "text/plain": [
       "<IPython.core.display.SVG object>"
      ]
     },
     "execution_count": 8,
     "metadata": {},
     "output_type": "execute_result"
    }
   ],
   "source": [
    "# Plotting to file:\n",
    "from keras.utils import plot_model\n",
    "import matplotlib.image as mpimg\n",
    "plot_model(network, to_file='./network.png', show_shapes=True, show_layer_names=True)\n",
    "\n",
    "# Plotting to inline output:\n",
    "from IPython.display import SVG\n",
    "from keras.utils.vis_utils import model_to_dot\n",
    "SVG(model_to_dot(network, show_shapes=False, show_layer_names=True).create(prog='dot', format='svg'))"
   ]
  },
  {
   "cell_type": "markdown",
   "metadata": {},
   "source": [
    "### Evaluating model:\n",
    "computing approximation of American option price with the NN model: "
   ]
  },
  {
   "cell_type": "code",
   "execution_count": 9,
   "metadata": {},
   "outputs": [
    {
     "data": {
      "text/plain": [
       "0.6993938088417053"
      ]
     },
     "execution_count": 9,
     "metadata": {},
     "output_type": "execute_result"
    }
   ],
   "source": [
    "# defining generator for evaluation of the trained network (more samples)\n",
    "stockpricegenerator_NNeval=stock_prices_generator(mu=interest_rate, sigma=volatility, S0=S0, T=T, T_past=0, \n",
    "                                                modelinput=True, num_samples=100000, \n",
    "                                                num_steps=num_steps)\n",
    "\n",
    "# minus Loss corresponds to the option price\n",
    "-network.evaluate_generator(stockpricegenerator_NNeval, steps=1)"
   ]
  },
  {
   "cell_type": "markdown",
   "metadata": {},
   "source": [
    "Comparing with european option price (for call this should the same, for put EU smaller)"
   ]
  },
  {
   "cell_type": "code",
   "execution_count": 10,
   "metadata": {},
   "outputs": [
    {
     "data": {
      "text/plain": [
       "0.7085949764561152"
      ]
     },
     "execution_count": 10,
     "metadata": {},
     "output_type": "execute_result"
    }
   ],
   "source": [
    "EuroOptionPrice_MonteCarlo(r=interest_rate, sigma=volatility, S0=S0, T=T, K=strike,\n",
    "                           Type=option_type, num_samples=100000, num_steps=num_steps)"
   ]
  }
 ],
 "metadata": {
  "kernelspec": {
   "display_name": "Python 3",
   "language": "python",
   "name": "python3"
  },
  "language_info": {
   "codemirror_mode": {
    "name": "ipython",
    "version": 3
   },
   "file_extension": ".py",
   "mimetype": "text/x-python",
   "name": "python",
   "nbconvert_exporter": "python",
   "pygments_lexer": "ipython3",
   "version": "3.6.8"
  }
 },
 "nbformat": 4,
 "nbformat_minor": 2
}
